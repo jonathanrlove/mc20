{
 "cells": [
  {
   "cell_type": "markdown",
   "metadata": {},
   "source": [
    "## Computational Playground (LLL Reduction)\n",
    "\n",
    "Start by running the following cell (click inside it and then press Shift-Enter) to load some computational tools you can use."
   ]
  },
  {
   "cell_type": "code",
   "execution_count": 1,
   "metadata": {},
   "outputs": [],
   "source": [
    "from toolkit import *"
   ]
  },
  {
   "cell_type": "markdown",
   "metadata": {},
   "source": [
    "## Examples\n",
    "\n",
    "Here are some examples of how to use the Proj and Rem functions. In the first case, we project onto the space spanned by a single vector."
   ]
  },
  {
   "cell_type": "code",
   "execution_count": 2,
   "metadata": {},
   "outputs": [
    {
     "name": "stdout",
     "output_type": "stream",
     "text": [
      "The projection of v onto b is [5.7 1.9]\n",
      "The remainder of projection of v onto b is [-0.7  2.1]\n"
     ]
    },
    {
     "data": {
      "image/png": "[encoded data removed]",
      "text/plain": [
       "<Figure size 432x288 with 1 Axes>"
      ]
     },
     "metadata": {
      "needs_background": "light"
     },
     "output_type": "display_data"
    },
    {
     "name": "stdout",
     "output_type": "stream",
     "text": [
      "Angle of v with b is 20.224859431168078 degrees\n",
      "Angle of projection with b is 1.2074182697257333e-06 degrees\n",
      "Angle of remainder with b is 89.99999999999999 degrees\n"
     ]
    }
   ],
   "source": [
    "b = np.array([3,1])\n",
    "v = np.array([5,4])\n",
    "\n",
    "p = Proj([b], v)\n",
    "r = Rem([b], v)\n",
    "\n",
    "print(\"The projection of v onto b is \"+str(p))\n",
    "print(\"The remainder of projection of v onto b is \"+str(r))\n",
    "\n",
    "plotvectors([b,v,p,r],['black','magenta','red','blue'])\n",
    "\n",
    "print(\"Angle of v with b is \"+str(angle(v,b))+\" degrees\")\n",
    "print(\"Angle of projection with b is \"+str(angle(p,b))+\" degrees\")\n",
    "print(\"Angle of remainder with b is \"+str(angle(r,b))+\" degrees\")\n"
   ]
  },
  {
   "cell_type": "markdown",
   "metadata": {},
   "source": [
    "We can also do this with higher dimensions and more vectors, even though it becomes harder to visualize."
   ]
  },
  {
   "cell_type": "code",
   "execution_count": 12,
   "metadata": {},
   "outputs": [
    {
     "name": "stdout",
     "output_type": "stream",
     "text": [
      "Angle of b2star with b1 is 90.0 degrees\n",
      "Angle of b3star with b1 is 90.00000000085289 degrees\n",
      "Angle of b3star with b2 is 90.00000000067199 degrees\n"
     ]
    }
   ],
   "source": [
    "b1 = np.array([1,0,-10**-6])\n",
    "b2 = np.array([1/2,sqrt(3)/2,2*10**-6])\n",
    "b3 = np.array([-1/2,sqrt(3)/2,-3*10**-6])\n",
    "\n",
    "b1star = Rem([], b1)\n",
    "b2star = Rem([b1], b2)\n",
    "b3star = Rem([b1,b2], b3)\n",
    "\n",
    "print(\"Angle of b2star with b1 is \"+str(angle(b2star, b1))+\" degrees\")\n",
    "print(\"Angle of b3star with b1 is \"+str(angle(b3star, b1))+\" degrees\")\n",
    "print(\"Angle of b3star with b2 is \"+str(angle(b3star, b2))+\" degrees\")"
   ]
  },
  {
   "cell_type": "markdown",
   "metadata": {},
   "source": [
    "Another useful function is \"Findn.\" This will return an integer which makes v+nu as short as possible. If you provide a nonempty list, it will first take the remainder of projection onto that list, and then find the best n."
   ]
  },
  {
   "cell_type": "code",
   "execution_count": 23,
   "metadata": {},
   "outputs": [
    {
     "name": "stdout",
     "output_type": "stream",
     "text": [
      "v + -2.0u = [2080.    6.] is shorter than [6.94e+03 4.00e+00] and [-2780.     8.]\n",
      "Size-reducing {u2, u3} results in the vector u3 + -5.0u2 = [-1.25  0.    0.5 ].\n",
      "This has remainder [0.  0.  0.5] after projection onto u1.\n"
     ]
    }
   ],
   "source": [
    "u = np.array([4860,-2])\n",
    "v = np.array([11800,2])\n",
    "\n",
    "n=Findn([], [4860,-2],[11800,2])\n",
    "print(\"v + \" + str(n) + \"u = \" + str(v+n*u) + \" is shorter than \" + str(v+(n+1)*u) + \" and \"+str(v+(n-1)*u))\n",
    "\n",
    "u1 = np.array([1,0,0])\n",
    "u2 = np.array([1/4,1,0])\n",
    "u3 = np.array([0,5,1/2])\n",
    "\n",
    "m=Findn([u1], u2, u3)\n",
    "print(\"Size-reducing {u2, u3} results in the vector u3 + \" + str(m) + \"u2 = \" + str(u3+m*u2) + \".\")\n",
    "print(\"This has remainder \" + str(Rem([u1], u3+m*u2)) + \" after projection onto u1.\")\n"
   ]
  },
  {
   "cell_type": "markdown",
   "metadata": {},
   "source": [
    "## Workspace"
   ]
  },
  {
   "cell_type": "code",
   "execution_count": 195,
   "metadata": {},
   "outputs": [],
   "source": [
    "u=u1\n",
    "v=u2\n",
    "w=u3"
   ]
  },
  {
   "cell_type": "code",
   "execution_count": 196,
   "metadata": {},
   "outputs": [
    {
     "name": "stdout",
     "output_type": "stream",
     "text": [
      "1.0\n",
      "1.0307764064044151\n"
     ]
    }
   ],
   "source": [
    "v = v + u*Findn([],u,v)\n",
    "print(length(u))\n",
    "print(length(v))"
   ]
  },
  {
   "cell_type": "code",
   "execution_count": 202,
   "metadata": {},
   "outputs": [
    {
     "name": "stdout",
     "output_type": "stream",
     "text": [
      "0.5590169943749475\n",
      "0.9013878188659973\n"
     ]
    }
   ],
   "source": [
    "[u,v] = [v,u]\n",
    "v = v + u*Findn([],u,v)\n",
    "print(length(u))\n",
    "print(length(v))"
   ]
  },
  {
   "cell_type": "code",
   "execution_count": 203,
   "metadata": {},
   "outputs": [
    {
     "name": "stdout",
     "output_type": "stream",
     "text": [
      "0.5590169943749475\n",
      "0.9013878188659973\n",
      "0.894427190999916\n",
      "1.02469507659596\n"
     ]
    }
   ],
   "source": [
    "w += v * Findn([u],v,w)\n",
    "w += u * Findn([],u,w)\n",
    "print(length(u))\n",
    "print(length(v))\n",
    "print(length(Rem([u],v)))\n",
    "print(length(Rem([u],w)))"
   ]
  },
  {
   "cell_type": "code",
   "execution_count": 198,
   "metadata": {},
   "outputs": [
    {
     "name": "stdout",
     "output_type": "stream",
     "text": [
      "1.0\n",
      "0.5590169943749475\n",
      "0.5\n",
      "1.0\n"
     ]
    }
   ],
   "source": [
    "[v,w] = [w,v]\n",
    "w += v * Findn([u],v,w)\n",
    "w += u * Findn([],u,w)\n",
    "print(length(u))\n",
    "print(length(v))\n",
    "print(length(Rem([u],v)))\n",
    "print(length(Rem([u],w)))"
   ]
  },
  {
   "cell_type": "code",
   "execution_count": 204,
   "metadata": {},
   "outputs": [
    {
     "data": {
      "text/plain": [
       "array([-0.25,  0.  ,  0.5 ])"
      ]
     },
     "execution_count": 204,
     "metadata": {},
     "output_type": "execute_result"
    }
   ],
   "source": [
    "u"
   ]
  },
  {
   "cell_type": "code",
   "execution_count": 205,
   "metadata": {},
   "outputs": [
    {
     "data": {
      "text/plain": [
       "array([0.75, 0.  , 0.5 ])"
      ]
     },
     "execution_count": 205,
     "metadata": {},
     "output_type": "execute_result"
    }
   ],
   "source": [
    "v"
   ]
  },
  {
   "cell_type": "code",
   "execution_count": 206,
   "metadata": {},
   "outputs": [
    {
     "data": {
      "text/plain": [
       "array([0.25, 1.  , 0.  ])"
      ]
     },
     "execution_count": 206,
     "metadata": {},
     "output_type": "execute_result"
    }
   ],
   "source": [
    "w"
   ]
  },
  {
   "cell_type": "code",
   "execution_count": 116,
   "metadata": {},
   "outputs": [
    {
     "data": {
      "text/plain": [
       "1.99999999207283"
      ]
     },
     "execution_count": 116,
     "metadata": {},
     "output_type": "execute_result"
    }
   ],
   "source": [
    "-16*(0.4708709)+43*(0.4708709**2)"
   ]
  },
  {
   "cell_type": "code",
   "execution_count": null,
   "metadata": {},
   "outputs": [],
   "source": []
  }
 ],
 "metadata": {
  "kernelspec": {
   "display_name": "Python 3",
   "language": "python",
   "name": "python3"
  },
  "language_info": {
   "codemirror_mode": {
    "name": "ipython",
    "version": 3
   },
   "file_extension": ".py",
   "mimetype": "text/x-python",
   "name": "python",
   "nbconvert_exporter": "python",
   "pygments_lexer": "ipython3",
   "version": "3.7.1"
  },
  "latex_envs": {
   "LaTeX_envs_menu_present": true,
   "autoclose": false,
   "autocomplete": false,
   "bibliofile": "biblio.bib",
   "cite_by": "apalike",
   "current_citInitial": 1,
   "eqLabelWithNumbers": true,
   "eqNumInitial": 1,
   "hotkeys": {
    "equation": "Ctrl-E",
    "itemize": "Ctrl-I"
   },
   "labels_anchors": false,
   "latex_user_defs": false,
   "report_style_numbering": false,
   "user_envs_cfg": true
  }
 },
 "nbformat": 4,
 "nbformat_minor": 4
}
