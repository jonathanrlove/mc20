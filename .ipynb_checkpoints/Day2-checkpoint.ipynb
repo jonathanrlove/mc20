{
 "cells": [
  {
   "cell_type": "markdown",
   "metadata": {},
   "source": [
    "## Computational Playground (2-D lattice reduction)\n",
    "\n",
    "Start by running the following cell (click inside it and then press Shift-Enter) to load some computational tools you can use."
   ]
  },
  {
   "cell_type": "code",
   "execution_count": 6,
   "metadata": {},
   "outputs": [],
   "source": [
    "from toolkit import *"
   ]
  },
  {
   "cell_type": "markdown",
   "metadata": {},
   "source": [
    "For any function you see, you can type the name of the function followed by a ? to get information on what it does. For example, try running the following cell."
   ]
  },
  {
   "cell_type": "code",
   "execution_count": 16,
   "metadata": {},
   "outputs": [],
   "source": [
    "angle?"
   ]
  },
  {
   "cell_type": "markdown",
   "metadata": {},
   "source": [
    "## Example\n",
    "\n",
    "Start with a lattice basis $u=(9,-2)$ and $v=(-16,5)$. How can we make the basis nicer?"
   ]
  },
  {
   "cell_type": "code",
   "execution_count": 17,
   "metadata": {},
   "outputs": [
    {
     "data": {
      "image/png": "[encoded data removed]",
      "text/plain": [
       "<Figure size 432x288 with 1 Axes>"
      ]
     },
     "metadata": {
      "needs_background": "light"
     },
     "output_type": "display_data"
    },
    {
     "name": "stdout",
     "output_type": "stream",
     "text": [
      "u has length 9.219544457292887\n",
      "v has length 16.76305461424021\n",
      "angle between u and v is 175.17478307289022 degrees\n"
     ]
    }
   ],
   "source": [
    "u = np.array([9,-2])\n",
    "v = np.array([-16,5])\n",
    "plotvectors([u,v], ['red','green'])\n",
    "print(\"u has length \"+str(length(u)))\n",
    "print(\"v has length \"+str(length(v)))\n",
    "print(\"angle between u and v is \"+str(angle(u,v))+\" degrees\")"
   ]
  },
  {
   "cell_type": "markdown",
   "metadata": {},
   "source": [
    "$u$ is shorter, so let's add copies of it to $v$. We can see below that $n=2$ gives the shortest length."
   ]
  },
  {
   "cell_type": "code",
   "execution_count": 12,
   "metadata": {},
   "outputs": [
    {
     "data": {
      "image/png": "[encoded data removed]",
      "text/plain": [
       "<Figure size 432x288 with 1 Axes>"
      ]
     },
     "metadata": {
      "needs_background": "light"
     },
     "output_type": "display_data"
    },
    {
     "name": "stdout",
     "output_type": "stream",
     "text": [
      "v+u has length 7.615773105863909, and its angle with u is 169.33021719550334 degrees\n",
      "v+2u has length 2.23606797749979, and its angle with u is 39.093858886229505 degrees\n",
      "v+3u has length 11.045361017187261, and its angle with u is 7.3343788014167055 degrees\n"
     ]
    }
   ],
   "source": [
    "vpu = v+u\n",
    "vp2u = v+2*u\n",
    "vp3u = v+3*u\n",
    "\n",
    "plotvectors([u,v,vpu,vp2u,vp3u], ['red','green', 'magenta','blue','purple'])\n",
    "\n",
    "print(\"v+u has length \"+str(length(vpu))+\", and its angle with u is \"+str(angle(vpu,u))+\" degrees\")\n",
    "print(\"v+2u has length \"+str(length(vp2u))+\", and its angle with u is \"+str(angle(vp2u,u))+\" degrees\")\n",
    "print(\"v+3u has length \"+str(length(vp3u))+\", and its angle with u is \"+str(angle(vp3u,u))+\" degrees\")"
   ]
  },
  {
   "cell_type": "markdown",
   "metadata": {},
   "source": [
    "So if we replace $v$ with $v+2u$, we get a better basis than we started with. But the resulting basis is still not reduced yet."
   ]
  },
  {
   "cell_type": "markdown",
   "metadata": {},
   "source": [
    "## Workspace"
   ]
  },
  {
   "cell_type": "code",
   "execution_count": null,
   "metadata": {},
   "outputs": [],
   "source": []
  }
 ],
 "metadata": {
  "kernelspec": {
   "display_name": "Python 3",
   "language": "python",
   "name": "python3"
  },
  "language_info": {
   "codemirror_mode": {
    "name": "ipython",
    "version": 3
   },
   "file_extension": ".py",
   "mimetype": "text/x-python",
   "name": "python",
   "nbconvert_exporter": "python",
   "pygments_lexer": "ipython3",
   "version": "3.7.1"
  },
  "latex_envs": {
   "LaTeX_envs_menu_present": true,
   "autoclose": false,
   "autocomplete": false,
   "bibliofile": "biblio.bib",
   "cite_by": "apalike",
   "current_citInitial": 1,
   "eqLabelWithNumbers": true,
   "eqNumInitial": 1,
   "hotkeys": {
    "equation": "Ctrl-E",
    "itemize": "Ctrl-I"
   },
   "labels_anchors": false,
   "latex_user_defs": false,
   "report_style_numbering": false,
   "user_envs_cfg": true
  }
 },
 "nbformat": 4,
 "nbformat_minor": 4
}
