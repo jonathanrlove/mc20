{
 "cells": [
  {
   "cell_type": "markdown",
   "metadata": {},
   "source": [
    "## Computational Playground (2-D lattice reduction)\n",
    "\n",
    "Run the following cell (click inside it and then press Shift-Enter) to load some computational tools you can use."
   ]
  },
  {
   "cell_type": "code",
   "execution_count": 258,
   "metadata": {},
   "outputs": [],
   "source": [
    "import numpy as np\n",
    "from numpy import sqrt\n",
    "import matplotlib.pyplot as plt\n",
    "\n",
    "def length(v):\n",
    "    '''Return the length of v.'''\n",
    "    v = np.array(v)\n",
    "    return sqrt(np.sum(v * v))\n",
    "\n",
    "def plotvectors(lst, colors=None):\n",
    "    '''Plot a list of 2D vectors'''\n",
    "    \n",
    "    xcoords = [v[0] for v in lst]\n",
    "    ycoords = [v[1] for v in lst]\n",
    "    if not colors:\n",
    "        plt.quiver([0 for v in lst], [0 for v in lst], xcoords, ycoords, scale_units='xy', angles='xy', scale=1)\n",
    "    else:\n",
    "        plt.quiver([0 for v in lst], [0 for v in lst], xcoords, ycoords, scale_units='xy', angles='xy', scale=1, color=colors)\n",
    "    maxx = max(xcoords + [0])\n",
    "    minx = min(xcoords + [0])\n",
    "    xrange = maxx-minx\n",
    "    maxy = max(ycoords + [0])\n",
    "    miny = min(ycoords + [0])\n",
    "    yrange = maxy-miny\n",
    "    biggerrange = max(xrange, yrange)\n",
    "    \n",
    "    plt.xlim(minx - (biggerrange - xrange)/2, maxx + (biggerrange - xrange)/2)\n",
    "    plt.ylim(miny - (biggerrange - yrange)/2, maxy + (biggerrange - yrange)/2)\n",
    "    plt.gca().set_aspect('equal', adjustable='box')\n",
    "    plt.show()"
   ]
  },
  {
   "cell_type": "markdown",
   "metadata": {},
   "source": [
    "## Example\n",
    "\n",
    "Start with a lattice basis $u=(9,-2)$ and $v=(-16,5)$. How can we make the basis nicer?"
   ]
  },
  {
   "cell_type": "code",
   "execution_count": 261,
   "metadata": {},
   "outputs": [
    {
     "data": {
      "image/png": "[encoded data removed]",
      "text/plain": [
       "<Figure size 432x288 with 1 Axes>"
      ]
     },
     "metadata": {
      "needs_background": "light"
     },
     "output_type": "display_data"
    },
    {
     "name": "stdout",
     "output_type": "stream",
     "text": [
      "u has length 9.219544457292887\n",
      "v has length 16.76305461424021\n"
     ]
    }
   ],
   "source": [
    "u = np.array([9,-2])\n",
    "v = np.array([-16,5])\n",
    "plotvectors([u,v], ['red','green'])\n",
    "print(\"u has length \"+str(length(u)))\n",
    "print(\"v has length \"+str(length(v)))"
   ]
  },
  {
   "cell_type": "markdown",
   "metadata": {},
   "source": [
    "$u$ is shorter, so let's add copies of it to $v$. We can see below that $n=2$ gives the shortest length."
   ]
  },
  {
   "cell_type": "code",
   "execution_count": 263,
   "metadata": {},
   "outputs": [
    {
     "data": {
      "image/png": "[encoded data removed]",
      "text/plain": [
       "<Figure size 432x288 with 1 Axes>"
      ]
     },
     "metadata": {
      "needs_background": "light"
     },
     "output_type": "display_data"
    },
    {
     "name": "stdout",
     "output_type": "stream",
     "text": [
      "v+u has length 7.615773105863909\n",
      "v+2u has length 2.23606797749979\n",
      "v+3u has length 11.045361017187261\n"
     ]
    }
   ],
   "source": [
    "vpu = v+u\n",
    "vp2u = v+2*u\n",
    "vp3u = v+3*u\n",
    "\n",
    "plotvectors([u,v,vmu,vm2u,vm3u], ['red','green', 'blue','purple','magenta'])\n",
    "\n",
    "print(\"v+u has length \"+str(length(vpu)))\n",
    "print(\"v+2u has length \"+str(length(vp2u)))\n",
    "print(\"v+3u has length \"+str(length(vp3u)))"
   ]
  },
  {
   "cell_type": "markdown",
   "metadata": {},
   "source": [
    "So if we replace $v$ with $w=v+2u$, we get a better basis than we started with. But the resulting basis is still not reduced yet; we now need to subtract multiples of $w$ from $u$."
   ]
  },
  {
   "cell_type": "markdown",
   "metadata": {},
   "source": [
    "## Workspace"
   ]
  },
  {
   "cell_type": "code",
   "execution_count": null,
   "metadata": {},
   "outputs": [],
   "source": []
  }
 ],
 "metadata": {
  "kernelspec": {
   "display_name": "Python 3",
   "language": "python",
   "name": "python3"
  },
  "language_info": {
   "codemirror_mode": {
    "name": "ipython",
    "version": 3
   },
   "file_extension": ".py",
   "mimetype": "text/x-python",
   "name": "python",
   "nbconvert_exporter": "python",
   "pygments_lexer": "ipython3",
   "version": "3.7.1"
  },
  "latex_envs": {
   "LaTeX_envs_menu_present": true,
   "autoclose": false,
   "autocomplete": false,
   "bibliofile": "biblio.bib",
   "cite_by": "apalike",
   "current_citInitial": 1,
   "eqLabelWithNumbers": true,
   "eqNumInitial": 1,
   "hotkeys": {
    "equation": "Ctrl-E",
    "itemize": "Ctrl-I"
   },
   "labels_anchors": false,
   "latex_user_defs": false,
   "report_style_numbering": false,
   "user_envs_cfg": true
  }
 },
 "nbformat": 4,
 "nbformat_minor": 4
}
